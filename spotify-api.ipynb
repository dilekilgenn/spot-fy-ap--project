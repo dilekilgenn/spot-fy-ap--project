{
 "cells": [
  {
   "cell_type": "code",
   "execution_count": 1,
   "metadata": {},
   "outputs": [
    {
     "data": {
      "text/plain": [
       "False"
      ]
     },
     "execution_count": 1,
     "metadata": {},
     "output_type": "execute_result"
    }
   ],
   "source": [
    "\n",
    "from dotenv import load_dotenv\n",
    "import os \n",
    "import base64\n",
    "import requests\n",
    "from requests import post , get\n",
    "import json\n",
    "from main import CLIENT_ID,CLIENT_SECRET\n",
    "load_dotenv()\n"
   ]
  },
  {
   "cell_type": "code",
   "execution_count": 2,
   "metadata": {},
   "outputs": [],
   "source": [
    "client_id= CLIENT_ID\n",
    "client_secret=CLIENT_SECRET\n"
   ]
  },
  {
   "cell_type": "code",
   "execution_count": 3,
   "metadata": {},
   "outputs": [
    {
     "data": {
      "text/plain": [
       "'c2b7e451e7f94431a567b1fa6e73f13c'"
      ]
     },
     "execution_count": 3,
     "metadata": {},
     "output_type": "execute_result"
    }
   ],
   "source": [
    "client_id"
   ]
  },
  {
   "cell_type": "code",
   "execution_count": 4,
   "metadata": {},
   "outputs": [
    {
     "name": "stdout",
     "output_type": "stream",
     "text": [
      "BQCXSkpJjPNosZ5ZVAWHORujubt01Jop5nnW5AVuMMeh8_M_HfdrQLI-HHupTPKiFr_0hy9Gc8bo01qn2mhVJ9jD7wuAl64HIFibA0sr88Yznz8vDP8\n"
     ]
    }
   ],
   "source": [
    "def get_token():\n",
    "    auth_string = client_id + \":\" + client_secret\n",
    "    auth_bytes = auth_string.encode(\"utf-8\")\n",
    "    auth_base64 = str(base64.b64encode(auth_bytes), \"utf-8\")\n",
    "\n",
    "    url = \"https://accounts.spotify.com/api/token\"\n",
    "    headers = {\n",
    "        \"Authorization\": \"Basic \" + auth_base64,\n",
    "        \"Content-Type\": \"application/x-www-form-urlencoded\"\n",
    "    }\n",
    "    data = {\"grant_type\": \"client_credentials\"}\n",
    "    result=post(url, headers=headers, data=data)\n",
    "    json_result=json.loads(result.content)\n",
    "    token=json_result[\"access_token\"]\n",
    "    return token\n",
    "\n",
    "token=get_token()\n",
    "print(token)\n"
   ]
  },
  {
   "cell_type": "code",
   "execution_count": 7,
   "metadata": {},
   "outputs": [
    {
     "name": "stdout",
     "output_type": "stream",
     "text": [
      "{'error': {'status': 400, 'message': 'Only valid bearer authentication supported'}}\n"
     ]
    }
   ],
   "source": [
    "def get_token():\n",
    "    auth_string = client_id + \":\" + client_secret\n",
    "    auth_bytes = auth_string.encode(\"utf-8\")\n",
    "    auth_base64 = str(base64.b64encode(auth_bytes), \"utf-8\")\n",
    "\n",
    "    url = \"https://accounts.spotify.com/api/token\"\n",
    "    headers = {\n",
    "        \"Authorization\": \"Basic \" + auth_base64,\n",
    "        \"Content-Type\": \"application/x-www-form-urlencoded\"\n",
    "    }\n",
    "    data = {\"grant_type\": \"client_credentials\"}\n",
    "    result=post(url, headers=headers, data=data)\n",
    "    json_result=json.loads(result.content)\n",
    "    token=json_result[\"access_token\"]\n",
    "    return token\n",
    "\n",
    "def get_auth_header(token):\n",
    "    return{\"Authorization\": \"Bearer\" + token}\n",
    "\n",
    "def search_for_artist(token,artist_name):\n",
    "    url= \"https://api.spotify.com/v1/search\"\n",
    "    headers=get_auth_header(token)\n",
    "    query=f\"?q={artist_name}&type=artist&limit=1\"\n",
    "\n",
    "    query_url = url  + query\n",
    "    result=get(query_url, headers=headers)\n",
    "    json_result= json.loads(result.content)\n",
    "    print(json_result)\n",
    "\n",
    "    \n",
    "\n",
    "token= get_token()\n",
    "search_for_artist(token, \"Rihanna\")\n"
   ]
  },
  {
   "cell_type": "code",
   "execution_count": null,
   "metadata": {},
   "outputs": [],
   "source": []
  }
 ],
 "metadata": {
  "kernelspec": {
   "display_name": "base",
   "language": "python",
   "name": "python3"
  },
  "language_info": {
   "codemirror_mode": {
    "name": "ipython",
    "version": 3
   },
   "file_extension": ".py",
   "mimetype": "text/x-python",
   "name": "python",
   "nbconvert_exporter": "python",
   "pygments_lexer": "ipython3",
   "version": "3.11.5"
  }
 },
 "nbformat": 4,
 "nbformat_minor": 2
}

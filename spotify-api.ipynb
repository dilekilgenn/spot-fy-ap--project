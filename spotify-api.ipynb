{
 "cells": [
  {
   "cell_type": "code",
   "execution_count": 1,
   "metadata": {},
   "outputs": [
    {
     "data": {
      "text/plain": [
       "True"
      ]
     },
     "execution_count": 1,
     "metadata": {},
     "output_type": "execute_result"
    }
   ],
   "source": [
    "\n",
    "from dotenv import load_dotenv\n",
    "import os \n",
    "import base64\n",
    "import requests\n",
    "from requests import post , get\n",
    "import json\n",
    "from main import CLIENT_ID,CLIENT_SECRET\n",
    "load_dotenv()\n"
   ]
  },
  {
   "cell_type": "code",
   "execution_count": 2,
   "metadata": {},
   "outputs": [],
   "source": [
    "client_id= CLIENT_ID\n",
    "client_secret=CLIENT_SECRET\n"
   ]
  },
  {
   "cell_type": "code",
   "execution_count": 3,
   "metadata": {},
   "outputs": [
    {
     "data": {
      "text/plain": [
       "'c2b7e451e7f94431a567b1fa6e73f13c'"
      ]
     },
     "execution_count": 3,
     "metadata": {},
     "output_type": "execute_result"
    }
   ],
   "source": [
    "client_id"
   ]
  },
  {
   "cell_type": "code",
   "execution_count": 4,
   "metadata": {},
   "outputs": [
    {
     "name": "stdout",
     "output_type": "stream",
     "text": [
      "BQB0loWYsEIc3iuvCgeDqveVECq0qO55LkZgygzGIrwDJE4NsxMVLMvzeWL-550y3T-wQ_rWtrjtQeWoUKlHAhKga9AG6dTQlG1LjD0Yw73TJBHO7Jk\n"
     ]
    }
   ],
   "source": [
    "def get_token():\n",
    "    auth_string = client_id + \":\" + client_secret\n",
    "    auth_bytes = auth_string.encode(\"utf-8\")\n",
    "    auth_base64 = str(base64.b64encode(auth_bytes), \"utf-8\")\n",
    "\n",
    "    url = \"https://accounts.spotify.com/api/token\"\n",
    "    headers = {\n",
    "        \"Authorization\": \"Basic \" + auth_base64,\n",
    "        \"Content-Type\": \"application/x-www-form-urlencoded\"\n",
    "    }\n",
    "    data = {\"grant_type\": \"client_credentials\"}\n",
    "    result=post(url, headers=headers, data=data)\n",
    "    json_result=json.loads(result.content)\n",
    "    token=json_result[\"access_token\"]\n",
    "    return token\n",
    "\n",
    "token=get_token()\n",
    "print(token)\n"
   ]
  },
  {
   "cell_type": "code",
   "execution_count": 5,
   "metadata": {},
   "outputs": [
    {
     "name": "stdout",
     "output_type": "stream",
     "text": [
      "{'artists': {'href': 'https://api.spotify.com/v1/search?query=Anathema&type=artist&offset=0&limit=1', 'items': [{'external_urls': {'spotify': 'https://open.spotify.com/artist/0ZXKT0FCsLWkSLCjoBJgBX'}, 'followers': {'href': None, 'total': 350437}, 'genres': ['gothic metal', 'progressive doom', 'progressive metal'], 'href': 'https://api.spotify.com/v1/artists/0ZXKT0FCsLWkSLCjoBJgBX', 'id': '0ZXKT0FCsLWkSLCjoBJgBX', 'images': [{'height': 640, 'url': 'https://i.scdn.co/image/ab6761610000e5eb3b2f51bb865ea1d25c236789', 'width': 640}, {'height': 320, 'url': 'https://i.scdn.co/image/ab676161000051743b2f51bb865ea1d25c236789', 'width': 320}, {'height': 160, 'url': 'https://i.scdn.co/image/ab6761610000f1783b2f51bb865ea1d25c236789', 'width': 160}], 'name': 'Anathema', 'popularity': 47, 'type': 'artist', 'uri': 'spotify:artist:0ZXKT0FCsLWkSLCjoBJgBX'}], 'limit': 1, 'next': 'https://api.spotify.com/v1/search?query=Anathema&type=artist&offset=1&limit=1', 'offset': 0, 'previous': None, 'total': 76}}\n"
     ]
    }
   ],
   "source": [
    "def get_token():\n",
    "    auth_string = client_id + \":\" + client_secret\n",
    "    auth_bytes = auth_string.encode(\"utf-8\")\n",
    "    auth_base64 = str(base64.b64encode(auth_bytes), \"utf-8\")\n",
    "\n",
    "    url = \"https://accounts.spotify.com/api/token\"\n",
    "    headers = {\n",
    "        \"Authorization\": \"Basic \" + auth_base64,\n",
    "        \"Content-Type\": \"application/x-www-form-urlencoded\"\n",
    "    }\n",
    "    data = {\"grant_type\": \"client_credentials\"}\n",
    "    result=post(url, headers=headers, data=data)\n",
    "    json_result=json.loads(result.content)\n",
    "    token=json_result[\"access_token\"]\n",
    "    return token\n",
    "\n",
    "def get_auth_header(token):\n",
    "    return{\"Authorization\": f\"Bearer {token}\"}\n",
    "\n",
    "def search_for_artist(token,artist_name):\n",
    "    url= \"https://api.spotify.com/v1/search\"\n",
    "    headers=get_auth_header(token)\n",
    "    query=f\"?q={artist_name}&type=artist&limit=1\"\n",
    "\n",
    "    query_url = url  + query\n",
    "    result=get(query_url, headers=headers)\n",
    "    json_result= json.loads(result.content)\n",
    "    print(json_result)\n",
    "\n",
    "    \n",
    "\n",
    "token= get_token()\n",
    "search_for_artist(token, \"Anathema\")\n"
   ]
  },
  {
   "cell_type": "code",
   "execution_count": 6,
   "metadata": {},
   "outputs": [],
   "source": [
    "#{'artists': {'href': 'https://api.spotify.com/v1/search?query=Anathema&type=artist&offset=0&limit=1', 'items': [{'external_urls': {'spotify': 'https://open.spotify.com/artist/0ZXKT0FCsLWkSLCjoBJgBX'}, 'followers': {'href': None, 'total': 350437}, 'genres': ['gothic metal', 'progressive doom', 'progressive metal'], 'href': 'https://api.spotify.com/v1/artists/0ZXKT0FCsLWkSLCjoBJgBX', 'id': '0ZXKT0FCsLWkSLCjoBJgBX', 'images': [{'height': 640, 'url': 'https://i.scdn.co/image/ab6761610000e5eb3b2f51bb865ea1d25c236789', 'width': 640}, {'height': 320, 'url': 'https://i.scdn.co/image/ab676161000051743b2f51bb865ea1d25c236789', 'width': 320}, {'height': 160, 'url': 'https://i.scdn.co/image/ab6761610000f1783b2f51bb865ea1d25c236789', 'width': 160}], 'name': 'Anathema', 'popularity': 47, 'type': 'artist', 'uri': 'spotify:artist:0ZXKT0FCsLWkSLCjoBJgBX'}], 'limit': 1, 'next': 'https://api.spotify.com/v1/search?query=Anathema&type=artist&offset=1&limit=1', 'offset': 0, 'previous': None, 'total': 99}}"
   ]
  },
  {
   "cell_type": "code",
   "execution_count": 7,
   "metadata": {},
   "outputs": [
    {
     "name": "stdout",
     "output_type": "stream",
     "text": [
      "{'external_urls': {'spotify': 'https://open.spotify.com/artist/0ZXKT0FCsLWkSLCjoBJgBX'}, 'followers': {'href': None, 'total': 350437}, 'genres': ['gothic metal', 'progressive doom', 'progressive metal'], 'href': 'https://api.spotify.com/v1/artists/0ZXKT0FCsLWkSLCjoBJgBX', 'id': '0ZXKT0FCsLWkSLCjoBJgBX', 'images': [{'height': 640, 'url': 'https://i.scdn.co/image/ab6761610000e5eb3b2f51bb865ea1d25c236789', 'width': 640}, {'height': 320, 'url': 'https://i.scdn.co/image/ab676161000051743b2f51bb865ea1d25c236789', 'width': 320}, {'height': 160, 'url': 'https://i.scdn.co/image/ab6761610000f1783b2f51bb865ea1d25c236789', 'width': 160}], 'name': 'Anathema', 'popularity': 47, 'type': 'artist', 'uri': 'spotify:artist:0ZXKT0FCsLWkSLCjoBJgBX'}\n"
     ]
    }
   ],
   "source": [
    "def get_token():\n",
    "    auth_string = client_id + \":\" + client_secret\n",
    "    auth_bytes = auth_string.encode(\"utf-8\")\n",
    "    auth_base64 = str(base64.b64encode(auth_bytes), \"utf-8\")\n",
    "\n",
    "    url = \"https://accounts.spotify.com/api/token\"\n",
    "    headers = {\n",
    "        \"Authorization\": \"Basic \" + auth_base64,\n",
    "        \"Content-Type\": \"application/x-www-form-urlencoded\"\n",
    "    }\n",
    "    data = {\"grant_type\": \"client_credentials\"}\n",
    "    result=post(url, headers=headers, data=data)\n",
    "    json_result=json.loads(result.content)\n",
    "    token=json_result[\"access_token\"]\n",
    "    return token\n",
    "\n",
    "def get_auth_header(token):\n",
    "    return{\"Authorization\": f\"Bearer {token}\"}\n",
    "\n",
    "def search_for_artist(token,artist_name):\n",
    "    url= \"https://api.spotify.com/v1/search\"\n",
    "    headers=get_auth_header(token)\n",
    "    query=f\"?q={artist_name}&type=artist&limit=1\"\n",
    "\n",
    "    query_url = url  + query\n",
    "    result=get(query_url, headers=headers)\n",
    "    json_result= json.loads(result.content)[\"artists\"][\"items\"]\n",
    "    if len(json_result) ==0:\n",
    "        print(\"No artist with this name exist..\")\n",
    "        return None\n",
    "    return json_result[0]\n",
    "\n",
    "    print(json_result)\n",
    "\n",
    "    \n",
    "\n",
    "token= get_token()\n",
    "result= search_for_artist(token, \"Anathema\")\n",
    "print(result)\n"
   ]
  },
  {
   "cell_type": "code",
   "execution_count": 8,
   "metadata": {},
   "outputs": [
    {
     "name": "stdout",
     "output_type": "stream",
     "text": [
      "Anathemanın Spotify ID'si: 0ZXKT0FCsLWkSLCjoBJgBX\n"
     ]
    }
   ],
   "source": [
    "artist_id = result[\"id\"]\n",
    "print(\"Anathemanın Spotify ID'si:\",artist_id)"
   ]
  },
  {
   "cell_type": "code",
   "execution_count": 9,
   "metadata": {},
   "outputs": [
    {
     "name": "stdout",
     "output_type": "stream",
     "text": [
      "{'external_urls': {'spotify': 'https://open.spotify.com/artist/0ZXKT0FCsLWkSLCjoBJgBX'}, 'followers': {'href': None, 'total': 350437}, 'genres': ['gothic metal', 'progressive doom', 'progressive metal'], 'href': 'https://api.spotify.com/v1/artists/0ZXKT0FCsLWkSLCjoBJgBX', 'id': '0ZXKT0FCsLWkSLCjoBJgBX', 'images': [{'height': 640, 'url': 'https://i.scdn.co/image/ab6761610000e5eb3b2f51bb865ea1d25c236789', 'width': 640}, {'height': 320, 'url': 'https://i.scdn.co/image/ab676161000051743b2f51bb865ea1d25c236789', 'width': 320}, {'height': 160, 'url': 'https://i.scdn.co/image/ab6761610000f1783b2f51bb865ea1d25c236789', 'width': 160}], 'name': 'Anathema', 'popularity': 47, 'type': 'artist', 'uri': 'spotify:artist:0ZXKT0FCsLWkSLCjoBJgBX'}\n",
      "[{'album': {'album_type': 'album', 'artists': [{'external_urls': {'spotify': 'https://open.spotify.com/artist/0ZXKT0FCsLWkSLCjoBJgBX'}, 'href': 'https://api.spotify.com/v1/artists/0ZXKT0FCsLWkSLCjoBJgBX', 'id': '0ZXKT0FCsLWkSLCjoBJgBX', 'name': 'Anathema', 'type': 'artist', 'uri': 'spotify:artist:0ZXKT0FCsLWkSLCjoBJgBX'}], 'external_urls': {'spotify': 'https://open.spotify.com/album/4IZVVIN1eotOJhqDihuV3H'}, 'href': 'https://api.spotify.com/v1/albums/4IZVVIN1eotOJhqDihuV3H', 'id': '4IZVVIN1eotOJhqDihuV3H', 'images': [{'height': 640, 'url': 'https://i.scdn.co/image/ab67616d0000b273039c7b3731b8197fbf73bbc2', 'width': 640}, {'height': 300, 'url': 'https://i.scdn.co/image/ab67616d00001e02039c7b3731b8197fbf73bbc2', 'width': 300}, {'height': 64, 'url': 'https://i.scdn.co/image/ab67616d00004851039c7b3731b8197fbf73bbc2', 'width': 64}], 'is_playable': True, 'name': 'Judgement (Remastered)', 'release_date': '1999', 'release_date_precision': 'year', 'total_tracks': 13, 'type': 'album', 'uri': 'spotify:album:4IZVVIN1eotOJhqDihuV3H'}, 'artists': [{'external_urls': {'spotify': 'https://open.spotify.com/artist/0ZXKT0FCsLWkSLCjoBJgBX'}, 'href': 'https://api.spotify.com/v1/artists/0ZXKT0FCsLWkSLCjoBJgBX', 'id': '0ZXKT0FCsLWkSLCjoBJgBX', 'name': 'Anathema', 'type': 'artist', 'uri': 'spotify:artist:0ZXKT0FCsLWkSLCjoBJgBX'}], 'disc_number': 1, 'duration_ms': 323933, 'explicit': False, 'external_ids': {'isrc': 'GBCKC1400032'}, 'external_urls': {'spotify': 'https://open.spotify.com/track/0jQxDAN0CBuIdAqbR4OnzV'}, 'href': 'https://api.spotify.com/v1/tracks/0jQxDAN0CBuIdAqbR4OnzV', 'id': '0jQxDAN0CBuIdAqbR4OnzV', 'is_local': False, 'is_playable': True, 'name': 'One Last Goodbye - Remastered', 'popularity': 46, 'preview_url': 'https://p.scdn.co/mp3-preview/ffa3e027e2278b725671296393dd189be8acb511?cid=c2b7e451e7f94431a567b1fa6e73f13c', 'track_number': 6, 'type': 'track', 'uri': 'spotify:track:0jQxDAN0CBuIdAqbR4OnzV'}, {'album': {'album_type': 'album', 'artists': [{'external_urls': {'spotify': 'https://open.spotify.com/artist/0ZXKT0FCsLWkSLCjoBJgBX'}, 'href': 'https://api.spotify.com/v1/artists/0ZXKT0FCsLWkSLCjoBJgBX', 'id': '0ZXKT0FCsLWkSLCjoBJgBX', 'name': 'Anathema', 'type': 'artist', 'uri': 'spotify:artist:0ZXKT0FCsLWkSLCjoBJgBX'}], 'external_urls': {'spotify': 'https://open.spotify.com/album/2u9kFU66dEBxvvw23QPujf'}, 'href': 'https://api.spotify.com/v1/albums/2u9kFU66dEBxvvw23QPujf', 'id': '2u9kFU66dEBxvvw23QPujf', 'images': [{'height': 640, 'url': 'https://i.scdn.co/image/ab67616d0000b273f1dcc969f77870a66f3e6b3c', 'width': 640}, {'height': 300, 'url': 'https://i.scdn.co/image/ab67616d00001e02f1dcc969f77870a66f3e6b3c', 'width': 300}, {'height': 64, 'url': 'https://i.scdn.co/image/ab67616d00004851f1dcc969f77870a66f3e6b3c', 'width': 64}], 'is_playable': True, 'name': 'A Natural Disaster (Remastered)', 'release_date': '2003', 'release_date_precision': 'year', 'total_tracks': 10, 'type': 'album', 'uri': 'spotify:album:2u9kFU66dEBxvvw23QPujf'}, 'artists': [{'external_urls': {'spotify': 'https://open.spotify.com/artist/0ZXKT0FCsLWkSLCjoBJgBX'}, 'href': 'https://api.spotify.com/v1/artists/0ZXKT0FCsLWkSLCjoBJgBX', 'id': '0ZXKT0FCsLWkSLCjoBJgBX', 'name': 'Anathema', 'type': 'artist', 'uri': 'spotify:artist:0ZXKT0FCsLWkSLCjoBJgBX'}], 'disc_number': 1, 'duration_ms': 357013, 'explicit': False, 'external_ids': {'isrc': 'GBCKC1400047'}, 'external_urls': {'spotify': 'https://open.spotify.com/track/5Osd2BWeCNtA6EMLY0Dsil'}, 'href': 'https://api.spotify.com/v1/tracks/5Osd2BWeCNtA6EMLY0Dsil', 'id': '5Osd2BWeCNtA6EMLY0Dsil', 'is_local': False, 'is_playable': True, 'name': 'Flying - Remastered', 'popularity': 43, 'preview_url': 'https://p.scdn.co/mp3-preview/eb2741bda33028e30cee26df6b511f7d1184e3a9?cid=c2b7e451e7f94431a567b1fa6e73f13c', 'track_number': 8, 'type': 'track', 'uri': 'spotify:track:5Osd2BWeCNtA6EMLY0Dsil'}, {'album': {'album_type': 'album', 'artists': [{'external_urls': {'spotify': 'https://open.spotify.com/artist/0ZXKT0FCsLWkSLCjoBJgBX'}, 'href': 'https://api.spotify.com/v1/artists/0ZXKT0FCsLWkSLCjoBJgBX', 'id': '0ZXKT0FCsLWkSLCjoBJgBX', 'name': 'Anathema', 'type': 'artist', 'uri': 'spotify:artist:0ZXKT0FCsLWkSLCjoBJgBX'}], 'external_urls': {'spotify': 'https://open.spotify.com/album/4IZVVIN1eotOJhqDihuV3H'}, 'href': 'https://api.spotify.com/v1/albums/4IZVVIN1eotOJhqDihuV3H', 'id': '4IZVVIN1eotOJhqDihuV3H', 'images': [{'height': 640, 'url': 'https://i.scdn.co/image/ab67616d0000b273039c7b3731b8197fbf73bbc2', 'width': 640}, {'height': 300, 'url': 'https://i.scdn.co/image/ab67616d00001e02039c7b3731b8197fbf73bbc2', 'width': 300}, {'height': 64, 'url': 'https://i.scdn.co/image/ab67616d00004851039c7b3731b8197fbf73bbc2', 'width': 64}], 'is_playable': True, 'name': 'Judgement (Remastered)', 'release_date': '1999', 'release_date_precision': 'year', 'total_tracks': 13, 'type': 'album', 'uri': 'spotify:album:4IZVVIN1eotOJhqDihuV3H'}, 'artists': [{'external_urls': {'spotify': 'https://open.spotify.com/artist/0ZXKT0FCsLWkSLCjoBJgBX'}, 'href': 'https://api.spotify.com/v1/artists/0ZXKT0FCsLWkSLCjoBJgBX', 'id': '0ZXKT0FCsLWkSLCjoBJgBX', 'name': 'Anathema', 'type': 'artist', 'uri': 'spotify:artist:0ZXKT0FCsLWkSLCjoBJgBX'}], 'disc_number': 1, 'duration_ms': 293293, 'explicit': False, 'external_ids': {'isrc': 'GBCKC1400027'}, 'external_urls': {'spotify': 'https://open.spotify.com/track/0kfe9dDMNl5q8b6TjfZ76u'}, 'href': 'https://api.spotify.com/v1/tracks/0kfe9dDMNl5q8b6TjfZ76u', 'id': '0kfe9dDMNl5q8b6TjfZ76u', 'is_local': False, 'is_playable': True, 'name': 'Deep - Remastered', 'popularity': 43, 'preview_url': 'https://p.scdn.co/mp3-preview/03a7b380220a0e9e6f8e4cc271c77a03dca1891d?cid=c2b7e451e7f94431a567b1fa6e73f13c', 'track_number': 1, 'type': 'track', 'uri': 'spotify:track:0kfe9dDMNl5q8b6TjfZ76u'}, {'album': {'album_type': 'album', 'artists': [{'external_urls': {'spotify': 'https://open.spotify.com/artist/0ZXKT0FCsLWkSLCjoBJgBX'}, 'href': 'https://api.spotify.com/v1/artists/0ZXKT0FCsLWkSLCjoBJgBX', 'id': '0ZXKT0FCsLWkSLCjoBJgBX', 'name': 'Anathema', 'type': 'artist', 'uri': 'spotify:artist:0ZXKT0FCsLWkSLCjoBJgBX'}], 'external_urls': {'spotify': 'https://open.spotify.com/album/6KbiLyyfxmryGTV1QTi4R4'}, 'href': 'https://api.spotify.com/v1/albums/6KbiLyyfxmryGTV1QTi4R4', 'id': '6KbiLyyfxmryGTV1QTi4R4', 'images': [{'height': 640, 'url': 'https://i.scdn.co/image/ab67616d0000b273774980991ae33ff02317695c', 'width': 640}, {'height': 300, 'url': 'https://i.scdn.co/image/ab67616d00001e02774980991ae33ff02317695c', 'width': 300}, {'height': 64, 'url': 'https://i.scdn.co/image/ab67616d00004851774980991ae33ff02317695c', 'width': 64}], 'is_playable': True, 'name': 'Weather Systems', 'release_date': '2012-04-24', 'release_date_precision': 'day', 'total_tracks': 9, 'type': 'album', 'uri': 'spotify:album:6KbiLyyfxmryGTV1QTi4R4'}, 'artists': [{'external_urls': {'spotify': 'https://open.spotify.com/artist/0ZXKT0FCsLWkSLCjoBJgBX'}, 'href': 'https://api.spotify.com/v1/artists/0ZXKT0FCsLWkSLCjoBJgBX', 'id': '0ZXKT0FCsLWkSLCjoBJgBX', 'name': 'Anathema', 'type': 'artist', 'uri': 'spotify:artist:0ZXKT0FCsLWkSLCjoBJgBX'}], 'disc_number': 1, 'duration_ms': 374306, 'explicit': False, 'external_ids': {'isrc': 'US2421225101'}, 'external_urls': {'spotify': 'https://open.spotify.com/track/14YqgEgK6Zws20p4tdilfK'}, 'href': 'https://api.spotify.com/v1/tracks/14YqgEgK6Zws20p4tdilfK', 'id': '14YqgEgK6Zws20p4tdilfK', 'is_local': False, 'is_playable': True, 'name': 'Untouchable, Pt. 1', 'popularity': 25, 'preview_url': 'https://p.scdn.co/mp3-preview/b4a4a01bab7f63a6b714389bc03f5df6d93499e6?cid=c2b7e451e7f94431a567b1fa6e73f13c', 'track_number': 1, 'type': 'track', 'uri': 'spotify:track:14YqgEgK6Zws20p4tdilfK'}, {'album': {'album_type': 'album', 'artists': [{'external_urls': {'spotify': 'https://open.spotify.com/artist/0ZXKT0FCsLWkSLCjoBJgBX'}, 'href': 'https://api.spotify.com/v1/artists/0ZXKT0FCsLWkSLCjoBJgBX', 'id': '0ZXKT0FCsLWkSLCjoBJgBX', 'name': 'Anathema', 'type': 'artist', 'uri': 'spotify:artist:0ZXKT0FCsLWkSLCjoBJgBX'}], 'external_urls': {'spotify': 'https://open.spotify.com/album/2kpqAmJb4qD8RAbskPakru'}, 'href': 'https://api.spotify.com/v1/albums/2kpqAmJb4qD8RAbskPakru', 'id': '2kpqAmJb4qD8RAbskPakru', 'images': [{'height': 640, 'url': 'https://i.scdn.co/image/ab67616d0000b27378cb611b5544ca36ca40eccc', 'width': 640}, {'height': 300, 'url': 'https://i.scdn.co/image/ab67616d00001e0278cb611b5544ca36ca40eccc', 'width': 300}, {'height': 64, 'url': 'https://i.scdn.co/image/ab67616d0000485178cb611b5544ca36ca40eccc', 'width': 64}], 'is_playable': True, 'name': 'Resonance 2', 'release_date': '2002', 'release_date_precision': 'year', 'total_tracks': 12, 'type': 'album', 'uri': 'spotify:album:2kpqAmJb4qD8RAbskPakru'}, 'artists': [{'external_urls': {'spotify': 'https://open.spotify.com/artist/0ZXKT0FCsLWkSLCjoBJgBX'}, 'href': 'https://api.spotify.com/v1/artists/0ZXKT0FCsLWkSLCjoBJgBX', 'id': '0ZXKT0FCsLWkSLCjoBJgBX', 'name': 'Anathema', 'type': 'artist', 'uri': 'spotify:artist:0ZXKT0FCsLWkSLCjoBJgBX'}], 'disc_number': 1, 'duration_ms': 332373, 'explicit': True, 'external_ids': {'isrc': 'GBCQV9800021'}, 'external_urls': {'spotify': 'https://open.spotify.com/track/6jtF8RDq04cMODupOyLwdi'}, 'href': 'https://api.spotify.com/v1/tracks/6jtF8RDq04cMODupOyLwdi', 'id': '6jtF8RDq04cMODupOyLwdi', 'is_local': False, 'is_playable': True, 'name': 'Fragile Dreams - Studio', 'popularity': 39, 'preview_url': 'https://p.scdn.co/mp3-preview/bb515486fdc19f34aa7dcc63758f4fbedf254055?cid=c2b7e451e7f94431a567b1fa6e73f13c', 'track_number': 10, 'type': 'track', 'uri': 'spotify:track:6jtF8RDq04cMODupOyLwdi'}, {'album': {'album_type': 'album', 'artists': [{'external_urls': {'spotify': 'https://open.spotify.com/artist/0ZXKT0FCsLWkSLCjoBJgBX'}, 'href': 'https://api.spotify.com/v1/artists/0ZXKT0FCsLWkSLCjoBJgBX', 'id': '0ZXKT0FCsLWkSLCjoBJgBX', 'name': 'Anathema', 'type': 'artist', 'uri': 'spotify:artist:0ZXKT0FCsLWkSLCjoBJgBX'}], 'external_urls': {'spotify': 'https://open.spotify.com/album/4IZVVIN1eotOJhqDihuV3H'}, 'href': 'https://api.spotify.com/v1/albums/4IZVVIN1eotOJhqDihuV3H', 'id': '4IZVVIN1eotOJhqDihuV3H', 'images': [{'height': 640, 'url': 'https://i.scdn.co/image/ab67616d0000b273039c7b3731b8197fbf73bbc2', 'width': 640}, {'height': 300, 'url': 'https://i.scdn.co/image/ab67616d00001e02039c7b3731b8197fbf73bbc2', 'width': 300}, {'height': 64, 'url': 'https://i.scdn.co/image/ab67616d00004851039c7b3731b8197fbf73bbc2', 'width': 64}], 'is_playable': True, 'name': 'Judgement (Remastered)', 'release_date': '1999', 'release_date_precision': 'year', 'total_tracks': 13, 'type': 'album', 'uri': 'spotify:album:4IZVVIN1eotOJhqDihuV3H'}, 'artists': [{'external_urls': {'spotify': 'https://open.spotify.com/artist/0ZXKT0FCsLWkSLCjoBJgBX'}, 'href': 'https://api.spotify.com/v1/artists/0ZXKT0FCsLWkSLCjoBJgBX', 'id': '0ZXKT0FCsLWkSLCjoBJgBX', 'name': 'Anathema', 'type': 'artist', 'uri': 'spotify:artist:0ZXKT0FCsLWkSLCjoBJgBX'}], 'disc_number': 1, 'duration_ms': 130066, 'explicit': False, 'external_ids': {'isrc': 'GBCKC1400033'}, 'external_urls': {'spotify': 'https://open.spotify.com/track/0U2VLsm3QTfqGn2GTuGNPh'}, 'href': 'https://api.spotify.com/v1/tracks/0U2VLsm3QTfqGn2GTuGNPh', 'id': '0U2VLsm3QTfqGn2GTuGNPh', 'is_local': False, 'is_playable': True, 'name': 'Parisienne Moonlight - Remastered', 'popularity': 40, 'preview_url': 'https://p.scdn.co/mp3-preview/13cd2dd5aa29b0a86eefc03fb3cadf1fe54edd27?cid=c2b7e451e7f94431a567b1fa6e73f13c', 'track_number': 7, 'type': 'track', 'uri': 'spotify:track:0U2VLsm3QTfqGn2GTuGNPh'}, {'album': {'album_type': 'album', 'artists': [{'external_urls': {'spotify': 'https://open.spotify.com/artist/0ZXKT0FCsLWkSLCjoBJgBX'}, 'href': 'https://api.spotify.com/v1/artists/0ZXKT0FCsLWkSLCjoBJgBX', 'id': '0ZXKT0FCsLWkSLCjoBJgBX', 'name': 'Anathema', 'type': 'artist', 'uri': 'spotify:artist:0ZXKT0FCsLWkSLCjoBJgBX'}], 'external_urls': {'spotify': 'https://open.spotify.com/album/7LJO7nyleUT187CBuQ05Ur'}, 'href': 'https://api.spotify.com/v1/albums/7LJO7nyleUT187CBuQ05Ur', 'id': '7LJO7nyleUT187CBuQ05Ur', 'images': [{'height': 640, 'url': 'https://i.scdn.co/image/ab67616d0000b273574c4485040a549212704ca5', 'width': 640}, {'height': 300, 'url': 'https://i.scdn.co/image/ab67616d00001e02574c4485040a549212704ca5', 'width': 300}, {'height': 64, 'url': 'https://i.scdn.co/image/ab67616d00004851574c4485040a549212704ca5', 'width': 64}], 'is_playable': True, 'name': 'Hindsight', 'release_date': '2008-08-25', 'release_date_precision': 'day', 'total_tracks': 10, 'type': 'album', 'uri': 'spotify:album:7LJO7nyleUT187CBuQ05Ur'}, 'artists': [{'external_urls': {'spotify': 'https://open.spotify.com/artist/0ZXKT0FCsLWkSLCjoBJgBX'}, 'href': 'https://api.spotify.com/v1/artists/0ZXKT0FCsLWkSLCjoBJgBX', 'id': '0ZXKT0FCsLWkSLCjoBJgBX', 'name': 'Anathema', 'type': 'artist', 'uri': 'spotify:artist:0ZXKT0FCsLWkSLCjoBJgBX'}], 'disc_number': 1, 'duration_ms': 300906, 'explicit': False, 'external_ids': {'isrc': 'GBCQV0801760'}, 'external_urls': {'spotify': 'https://open.spotify.com/track/0hXm9zuFNolVGg6UlhbVrT'}, 'href': 'https://api.spotify.com/v1/tracks/0hXm9zuFNolVGg6UlhbVrT', 'id': '0hXm9zuFNolVGg6UlhbVrT', 'is_local': False, 'is_playable': True, 'name': 'Angelica', 'popularity': 40, 'preview_url': 'https://p.scdn.co/mp3-preview/43276dee7d30c4659f9205729e90bf3d80998ad2?cid=c2b7e451e7f94431a567b1fa6e73f13c', 'track_number': 6, 'type': 'track', 'uri': 'spotify:track:0hXm9zuFNolVGg6UlhbVrT'}, {'album': {'album_type': 'album', 'artists': [{'external_urls': {'spotify': 'https://open.spotify.com/artist/0ZXKT0FCsLWkSLCjoBJgBX'}, 'href': 'https://api.spotify.com/v1/artists/0ZXKT0FCsLWkSLCjoBJgBX', 'id': '0ZXKT0FCsLWkSLCjoBJgBX', 'name': 'Anathema', 'type': 'artist', 'uri': 'spotify:artist:0ZXKT0FCsLWkSLCjoBJgBX'}], 'external_urls': {'spotify': 'https://open.spotify.com/album/2MXZ5iBdwsSzzlZszRZoTY'}, 'href': 'https://api.spotify.com/v1/albums/2MXZ5iBdwsSzzlZszRZoTY', 'id': '2MXZ5iBdwsSzzlZszRZoTY', 'images': [{'height': 640, 'url': 'https://i.scdn.co/image/ab67616d0000b2732e8adac520766b14b93514d1', 'width': 640}, {'height': 300, 'url': 'https://i.scdn.co/image/ab67616d00001e022e8adac520766b14b93514d1', 'width': 300}, {'height': 64, 'url': 'https://i.scdn.co/image/ab67616d000048512e8adac520766b14b93514d1', 'width': 64}], 'is_playable': True, 'name': 'The Optimist', 'release_date': '2017-06-09', 'release_date_precision': 'day', 'total_tracks': 11, 'type': 'album', 'uri': 'spotify:album:2MXZ5iBdwsSzzlZszRZoTY'}, 'artists': [{'external_urls': {'spotify': 'https://open.spotify.com/artist/0ZXKT0FCsLWkSLCjoBJgBX'}, 'href': 'https://api.spotify.com/v1/artists/0ZXKT0FCsLWkSLCjoBJgBX', 'id': '0ZXKT0FCsLWkSLCjoBJgBX', 'name': 'Anathema', 'type': 'artist', 'uri': 'spotify:artist:0ZXKT0FCsLWkSLCjoBJgBX'}], 'disc_number': 1, 'duration_ms': 349400, 'explicit': False, 'external_ids': {'isrc': 'GBCQV1700078'}, 'external_urls': {'spotify': 'https://open.spotify.com/track/5xVtfVrMb1WGypY4bIRLbk'}, 'href': 'https://api.spotify.com/v1/tracks/5xVtfVrMb1WGypY4bIRLbk', 'id': '5xVtfVrMb1WGypY4bIRLbk', 'is_local': False, 'is_playable': True, 'name': 'Springfield', 'popularity': 39, 'preview_url': 'https://p.scdn.co/mp3-preview/b46459009c9213880f505fcca65d1f9e3ff86c9d?cid=c2b7e451e7f94431a567b1fa6e73f13c', 'track_number': 6, 'type': 'track', 'uri': 'spotify:track:5xVtfVrMb1WGypY4bIRLbk'}, {'album': {'album_type': 'album', 'artists': [{'external_urls': {'spotify': 'https://open.spotify.com/artist/0ZXKT0FCsLWkSLCjoBJgBX'}, 'href': 'https://api.spotify.com/v1/artists/0ZXKT0FCsLWkSLCjoBJgBX', 'id': '0ZXKT0FCsLWkSLCjoBJgBX', 'name': 'Anathema', 'type': 'artist', 'uri': 'spotify:artist:0ZXKT0FCsLWkSLCjoBJgBX'}], 'external_urls': {'spotify': 'https://open.spotify.com/album/5FWrWg61D0YKCUb93PZRXR'}, 'href': 'https://api.spotify.com/v1/albums/5FWrWg61D0YKCUb93PZRXR', 'id': '5FWrWg61D0YKCUb93PZRXR', 'images': [{'height': 640, 'url': 'https://i.scdn.co/image/ab67616d0000b27304c29d098be707dcd5417ea7', 'width': 640}, {'height': 300, 'url': 'https://i.scdn.co/image/ab67616d00001e0204c29d098be707dcd5417ea7', 'width': 300}, {'height': 64, 'url': 'https://i.scdn.co/image/ab67616d0000485104c29d098be707dcd5417ea7', 'width': 64}], 'is_playable': True, 'name': 'Alternative 4', 'release_date': '1998-08-11', 'release_date_precision': 'day', 'total_tracks': 14, 'type': 'album', 'uri': 'spotify:album:5FWrWg61D0YKCUb93PZRXR'}, 'artists': [{'external_urls': {'spotify': 'https://open.spotify.com/artist/0ZXKT0FCsLWkSLCjoBJgBX'}, 'href': 'https://api.spotify.com/v1/artists/0ZXKT0FCsLWkSLCjoBJgBX', 'id': '0ZXKT0FCsLWkSLCjoBJgBX', 'name': 'Anathema', 'type': 'artist', 'uri': 'spotify:artist:0ZXKT0FCsLWkSLCjoBJgBX'}], 'disc_number': 1, 'duration_ms': 349855, 'explicit': False, 'external_ids': {'isrc': 'USA370517107'}, 'external_urls': {'spotify': 'https://open.spotify.com/track/6CLtsRrc15QmgkZqqxKxSd'}, 'href': 'https://api.spotify.com/v1/tracks/6CLtsRrc15QmgkZqqxKxSd', 'id': '6CLtsRrc15QmgkZqqxKxSd', 'is_local': False, 'is_playable': True, 'name': 'Lost Control', 'popularity': 39, 'preview_url': 'https://p.scdn.co/mp3-preview/50d4f09ff0ecc28e8f0ef193adf1f2f29faa183d?cid=c2b7e451e7f94431a567b1fa6e73f13c', 'track_number': 4, 'type': 'track', 'uri': 'spotify:track:6CLtsRrc15QmgkZqqxKxSd'}, {'album': {'album_type': 'album', 'artists': [{'external_urls': {'spotify': 'https://open.spotify.com/artist/0ZXKT0FCsLWkSLCjoBJgBX'}, 'href': 'https://api.spotify.com/v1/artists/0ZXKT0FCsLWkSLCjoBJgBX', 'id': '0ZXKT0FCsLWkSLCjoBJgBX', 'name': 'Anathema', 'type': 'artist', 'uri': 'spotify:artist:0ZXKT0FCsLWkSLCjoBJgBX'}], 'external_urls': {'spotify': 'https://open.spotify.com/album/3EEdchwHUS6mJj3RfIgPpa'}, 'href': 'https://api.spotify.com/v1/albums/3EEdchwHUS6mJj3RfIgPpa', 'id': '3EEdchwHUS6mJj3RfIgPpa', 'images': [{'height': 640, 'url': 'https://i.scdn.co/image/ab67616d0000b2736c62df3fa967ac4382b54147', 'width': 640}, {'height': 300, 'url': 'https://i.scdn.co/image/ab67616d00001e026c62df3fa967ac4382b54147', 'width': 300}, {'height': 64, 'url': 'https://i.scdn.co/image/ab67616d000048516c62df3fa967ac4382b54147', 'width': 64}], 'is_playable': True, 'name': 'Eternity', 'release_date': '1996-01-01', 'release_date_precision': 'day', 'total_tracks': 14, 'type': 'album', 'uri': 'spotify:album:3EEdchwHUS6mJj3RfIgPpa'}, 'artists': [{'external_urls': {'spotify': 'https://open.spotify.com/artist/0ZXKT0FCsLWkSLCjoBJgBX'}, 'href': 'https://api.spotify.com/v1/artists/0ZXKT0FCsLWkSLCjoBJgBX', 'id': '0ZXKT0FCsLWkSLCjoBJgBX', 'name': 'Anathema', 'type': 'artist', 'uri': 'spotify:artist:0ZXKT0FCsLWkSLCjoBJgBX'}], 'disc_number': 1, 'duration_ms': 350506, 'explicit': False, 'external_ids': {'isrc': 'GBCQV9600002'}, 'external_urls': {'spotify': 'https://open.spotify.com/track/4xfn7r9JyeWTuglVV9hglW'}, 'href': 'https://api.spotify.com/v1/tracks/4xfn7r9JyeWTuglVV9hglW', 'id': '4xfn7r9JyeWTuglVV9hglW', 'is_local': False, 'is_playable': True, 'name': 'Angelica', 'popularity': 38, 'preview_url': 'https://p.scdn.co/mp3-preview/03d51b29fab2c5012c9e2871a5244b2fa49f5e94?cid=c2b7e451e7f94431a567b1fa6e73f13c', 'track_number': 2, 'type': 'track', 'uri': 'spotify:track:4xfn7r9JyeWTuglVV9hglW'}]\n"
     ]
    }
   ],
   "source": [
    "def get_songs_by_artist(token,artist_id):\n",
    "    url=f\"https://api.spotify.com/v1/artists/{artist_id}/top-tracks?country=US\"\n",
    "    headers=get_auth_header(token)\n",
    "    result=get(url, headers=headers)\n",
    "    json_result = json.loads(result.content)[\"tracks\"]\n",
    "    return json_result\n",
    "\n",
    "token= get_token()\n",
    "result= search_for_artist(token, \"Anathema\")\n",
    "print(result)\n",
    "artist_id = result[\"id\"]\n",
    "songs=get_songs_by_artist(token,artist_id)\n",
    "print(songs)\n",
    "\n",
    " "
   ]
  },
  {
   "cell_type": "code",
   "execution_count": 10,
   "metadata": {},
   "outputs": [
    {
     "name": "stdout",
     "output_type": "stream",
     "text": [
      "1. One Last Goodbye - Remastered\n",
      "2. Flying - Remastered\n",
      "3. Deep - Remastered\n",
      "4. Untouchable, Pt. 1\n",
      "5. Fragile Dreams - Studio\n",
      "6. Parisienne Moonlight - Remastered\n",
      "7. Angelica\n",
      "8. Springfield\n",
      "9. Lost Control\n",
      "10. Angelica\n"
     ]
    }
   ],
   "source": [
    "for idx, song in enumerate(songs):\n",
    "    print(f'{idx + 1}. {song[\"name\"]}')"
   ]
  },
  {
   "cell_type": "code",
   "execution_count": 11,
   "metadata": {},
   "outputs": [
    {
     "ename": "JSONDecodeError",
     "evalue": "Expecting value: line 1 column 1 (char 0)",
     "output_type": "error",
     "traceback": [
      "\u001b[1;31m---------------------------------------------------------------------------\u001b[0m",
      "\u001b[1;31mJSONDecodeError\u001b[0m                           Traceback (most recent call last)",
      "Cell \u001b[1;32mIn[11], line 2\u001b[0m\n\u001b[0;32m      1\u001b[0m artist_id\u001b[38;5;241m=\u001b[39msearch_for_artist(token,\u001b[38;5;124m\"\u001b[39m\u001b[38;5;124mAnathema\u001b[39m\u001b[38;5;124m\"\u001b[39m)\n\u001b[1;32m----> 2\u001b[0m anathema_songs_df\u001b[38;5;241m=\u001b[39mget_songs_by_artist(token,artist_id)\n\u001b[0;32m      3\u001b[0m \u001b[38;5;28mprint\u001b[39m(anathema_songs_df)\n",
      "Cell \u001b[1;32mIn[9], line 5\u001b[0m, in \u001b[0;36mget_songs_by_artist\u001b[1;34m(token, artist_id)\u001b[0m\n\u001b[0;32m      3\u001b[0m headers\u001b[38;5;241m=\u001b[39mget_auth_header(token)\n\u001b[0;32m      4\u001b[0m result\u001b[38;5;241m=\u001b[39mget(url, headers\u001b[38;5;241m=\u001b[39mheaders)\n\u001b[1;32m----> 5\u001b[0m json_result \u001b[38;5;241m=\u001b[39m json\u001b[38;5;241m.\u001b[39mloads(result\u001b[38;5;241m.\u001b[39mcontent)[\u001b[38;5;124m\"\u001b[39m\u001b[38;5;124mtracks\u001b[39m\u001b[38;5;124m\"\u001b[39m]\n\u001b[0;32m      6\u001b[0m \u001b[38;5;28;01mreturn\u001b[39;00m json_result\n",
      "File \u001b[1;32mc:\\Users\\90530\\anaconda3\\Lib\\json\\__init__.py:346\u001b[0m, in \u001b[0;36mloads\u001b[1;34m(s, cls, object_hook, parse_float, parse_int, parse_constant, object_pairs_hook, **kw)\u001b[0m\n\u001b[0;32m    341\u001b[0m     s \u001b[38;5;241m=\u001b[39m s\u001b[38;5;241m.\u001b[39mdecode(detect_encoding(s), \u001b[38;5;124m'\u001b[39m\u001b[38;5;124msurrogatepass\u001b[39m\u001b[38;5;124m'\u001b[39m)\n\u001b[0;32m    343\u001b[0m \u001b[38;5;28;01mif\u001b[39;00m (\u001b[38;5;28mcls\u001b[39m \u001b[38;5;129;01mis\u001b[39;00m \u001b[38;5;28;01mNone\u001b[39;00m \u001b[38;5;129;01mand\u001b[39;00m object_hook \u001b[38;5;129;01mis\u001b[39;00m \u001b[38;5;28;01mNone\u001b[39;00m \u001b[38;5;129;01mand\u001b[39;00m\n\u001b[0;32m    344\u001b[0m         parse_int \u001b[38;5;129;01mis\u001b[39;00m \u001b[38;5;28;01mNone\u001b[39;00m \u001b[38;5;129;01mand\u001b[39;00m parse_float \u001b[38;5;129;01mis\u001b[39;00m \u001b[38;5;28;01mNone\u001b[39;00m \u001b[38;5;129;01mand\u001b[39;00m\n\u001b[0;32m    345\u001b[0m         parse_constant \u001b[38;5;129;01mis\u001b[39;00m \u001b[38;5;28;01mNone\u001b[39;00m \u001b[38;5;129;01mand\u001b[39;00m object_pairs_hook \u001b[38;5;129;01mis\u001b[39;00m \u001b[38;5;28;01mNone\u001b[39;00m \u001b[38;5;129;01mand\u001b[39;00m \u001b[38;5;129;01mnot\u001b[39;00m kw):\n\u001b[1;32m--> 346\u001b[0m     \u001b[38;5;28;01mreturn\u001b[39;00m _default_decoder\u001b[38;5;241m.\u001b[39mdecode(s)\n\u001b[0;32m    347\u001b[0m \u001b[38;5;28;01mif\u001b[39;00m \u001b[38;5;28mcls\u001b[39m \u001b[38;5;129;01mis\u001b[39;00m \u001b[38;5;28;01mNone\u001b[39;00m:\n\u001b[0;32m    348\u001b[0m     \u001b[38;5;28mcls\u001b[39m \u001b[38;5;241m=\u001b[39m JSONDecoder\n",
      "File \u001b[1;32mc:\\Users\\90530\\anaconda3\\Lib\\json\\decoder.py:337\u001b[0m, in \u001b[0;36mJSONDecoder.decode\u001b[1;34m(self, s, _w)\u001b[0m\n\u001b[0;32m    332\u001b[0m \u001b[38;5;28;01mdef\u001b[39;00m \u001b[38;5;21mdecode\u001b[39m(\u001b[38;5;28mself\u001b[39m, s, _w\u001b[38;5;241m=\u001b[39mWHITESPACE\u001b[38;5;241m.\u001b[39mmatch):\n\u001b[0;32m    333\u001b[0m \u001b[38;5;250m    \u001b[39m\u001b[38;5;124;03m\"\"\"Return the Python representation of ``s`` (a ``str`` instance\u001b[39;00m\n\u001b[0;32m    334\u001b[0m \u001b[38;5;124;03m    containing a JSON document).\u001b[39;00m\n\u001b[0;32m    335\u001b[0m \n\u001b[0;32m    336\u001b[0m \u001b[38;5;124;03m    \"\"\"\u001b[39;00m\n\u001b[1;32m--> 337\u001b[0m     obj, end \u001b[38;5;241m=\u001b[39m \u001b[38;5;28mself\u001b[39m\u001b[38;5;241m.\u001b[39mraw_decode(s, idx\u001b[38;5;241m=\u001b[39m_w(s, \u001b[38;5;241m0\u001b[39m)\u001b[38;5;241m.\u001b[39mend())\n\u001b[0;32m    338\u001b[0m     end \u001b[38;5;241m=\u001b[39m _w(s, end)\u001b[38;5;241m.\u001b[39mend()\n\u001b[0;32m    339\u001b[0m     \u001b[38;5;28;01mif\u001b[39;00m end \u001b[38;5;241m!=\u001b[39m \u001b[38;5;28mlen\u001b[39m(s):\n",
      "File \u001b[1;32mc:\\Users\\90530\\anaconda3\\Lib\\json\\decoder.py:355\u001b[0m, in \u001b[0;36mJSONDecoder.raw_decode\u001b[1;34m(self, s, idx)\u001b[0m\n\u001b[0;32m    353\u001b[0m     obj, end \u001b[38;5;241m=\u001b[39m \u001b[38;5;28mself\u001b[39m\u001b[38;5;241m.\u001b[39mscan_once(s, idx)\n\u001b[0;32m    354\u001b[0m \u001b[38;5;28;01mexcept\u001b[39;00m \u001b[38;5;167;01mStopIteration\u001b[39;00m \u001b[38;5;28;01mas\u001b[39;00m err:\n\u001b[1;32m--> 355\u001b[0m     \u001b[38;5;28;01mraise\u001b[39;00m JSONDecodeError(\u001b[38;5;124m\"\u001b[39m\u001b[38;5;124mExpecting value\u001b[39m\u001b[38;5;124m\"\u001b[39m, s, err\u001b[38;5;241m.\u001b[39mvalue) \u001b[38;5;28;01mfrom\u001b[39;00m \u001b[38;5;28;01mNone\u001b[39;00m\n\u001b[0;32m    356\u001b[0m \u001b[38;5;28;01mreturn\u001b[39;00m obj, end\n",
      "\u001b[1;31mJSONDecodeError\u001b[0m: Expecting value: line 1 column 1 (char 0)"
     ]
    }
   ],
   "source": [
    "artist_id=search_for_artist(token,\"Anathema\")\n",
    "anathema_songs_df=get_songs_by_artist(token,artist_id)\n",
    "print(anathema_songs_df)\n"
   ]
  }
 ],
 "metadata": {
  "kernelspec": {
   "display_name": "base",
   "language": "python",
   "name": "python3"
  },
  "language_info": {
   "codemirror_mode": {
    "name": "ipython",
    "version": 3
   },
   "file_extension": ".py",
   "mimetype": "text/x-python",
   "name": "python",
   "nbconvert_exporter": "python",
   "pygments_lexer": "ipython3",
   "version": "3.11.5"
  }
 },
 "nbformat": 4,
 "nbformat_minor": 2
}
